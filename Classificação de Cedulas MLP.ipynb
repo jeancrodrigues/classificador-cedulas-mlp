{
 "cells": [
  {
   "cell_type": "markdown",
   "metadata": {},
   "source": [
    "## Classificação de cédulas com MLP"
   ]
  },
  {
   "cell_type": "code",
   "execution_count": null,
   "metadata": {},
   "outputs": [],
   "source": [
    "import pandas as pd"
   ]
  },
  {
   "cell_type": "code",
   "execution_count": null,
   "metadata": {},
   "outputs": [],
   "source": [
    "import matplotlib.pyplot as plt"
   ]
  },
  {
   "cell_type": "code",
   "execution_count": null,
   "metadata": {},
   "outputs": [],
   "source": [
    "from sklearn.neural_network import MLPClassifier\n",
    "from sklearn.model_selection import train_test_split, cross_val_score\n",
    "from sklearn.metrics import accuracy_score"
   ]
  },
  {
   "cell_type": "code",
   "execution_count": null,
   "metadata": {},
   "outputs": [],
   "source": [
    "import warnings\n",
    "warnings.filterwarnings('ignore')"
   ]
  },
  {
   "cell_type": "markdown",
   "metadata": {},
   "source": [
    "### Importando a base de dados e separando entre treino e teste\n",
    "\n",
    "Importando a base de dados e embaralhando as linhas, pois as classes estão ordenadas o que afeta o treinamento e validação."
   ]
  },
  {
   "cell_type": "code",
   "execution_count": null,
   "metadata": {},
   "outputs": [],
   "source": [
    "df = pd.read_csv('dados_autent_bancaria.txt')\n",
    "\n",
    "X = df[[\"variance\",\"skewness\",\"curtosis\",\"entropy\"]]\n",
    "y = df['notafalsa']\n",
    "\n",
    "X_train, X_test, y_train, y_test = train_test_split(X, y, test_size=0.2, random_state=42)\n"
   ]
  },
  {
   "cell_type": "markdown",
   "metadata": {},
   "source": [
    "### Usando o modelo linear para comparação\n",
    "\n",
    "Usando um modelo linear na classificação da base de dados, obteve um desempenho de 97% com Perceptron e 86% com LinearRegression na classificação."
   ]
  },
  {
   "cell_type": "code",
   "execution_count": null,
   "metadata": {},
   "outputs": [],
   "source": [
    "from sklearn.linear_model import Perceptron, LinearRegression\n",
    "\n",
    "df_cv = df.sample(frac=1).reset_index(drop=True)\n",
    "X_cv = df_cv[[\"variance\",\"skewness\",\"curtosis\",\"entropy\"]]\n",
    "y_cv = df_cv[\"notafalsa\"]\n",
    "\n",
    "resultado_cv_linear = cross_val_score(Perceptron(),X_cv,y_cv,cv=5) \n",
    "print(\"Média Perceptron: {0:.2f}\".format(resultado_cv_linear.mean()))\n",
    "\n",
    "resultado_cv_regression = cross_val_score(LinearRegression(),X_cv,y_cv,cv=5) \n",
    "print(\"Média Regressão Linear: {0:.2f}\".format(resultado_cv_regression.mean()))\n"
   ]
  },
  {
   "cell_type": "markdown",
   "metadata": {},
   "source": [
    "### Testando funções de ativação \n"
   ]
  },
  {
   "cell_type": "code",
   "execution_count": null,
   "metadata": {},
   "outputs": [],
   "source": [
    "\n",
    "mlp_logistic = MLPClassifier(hidden_layer_sizes=(12),solver=\"sgd\",max_iter=500,activation=\"logistic\")\n",
    "mlp_logistic.fit(X_train,y_train)\n",
    "y_predicted_logistic = mlp_logistic.predict(X_test)\n",
    "print(\"Modelo com função logistica de ativação: {0:.3f}\".format(accuracy_score(y_test, y_predicted_logistic)))\n",
    "\n",
    "mlp_relu = MLPClassifier(hidden_layer_sizes=(12),solver=\"sgd\",max_iter=500,activation=\"relu\")\n",
    "mlp_relu.fit(X_train,y_train)\n",
    "y_predicted_relu = mlp_relu.predict(X_test)\n",
    "\n",
    "print(\"Modelo com função relu de ativação: {0:.3f}\".format(accuracy_score(y_test, y_predicted_relu)))\n",
    "\n",
    "plt.figure(figsize=(14,8))\n",
    "plt.title(\"Curva de perda - relu x logistic\")\n",
    "plt.grid()\n",
    "plt.plot(range(0,len(mlp_logistic.loss_curve_)),mlp_logistic.loss_curve_,'b', label=\"logistic\")\n",
    "plt.plot(range(0,len(mlp_relu.loss_curve_)),mlp_relu.loss_curve_,'g', label=\"relu\")\n",
    "plt.legend()\n"
   ]
  },
  {
   "cell_type": "markdown",
   "metadata": {},
   "source": [
    "### Testando incremento na taxa de aprendizado"
   ]
  },
  {
   "cell_type": "code",
   "execution_count": null,
   "metadata": {},
   "outputs": [],
   "source": [
    "iteracoes = 500\n",
    "solver = \"sgd\"\n",
    "ativacao = \"relu\"\n",
    "tamanho_rede = (8,8)\n",
    "\n",
    "mlp_l1 = MLPClassifier(learning_rate_init=0.001,hidden_layer_sizes=tamanho_rede,solver=solver,max_iter=iteracoes,activation=ativacao)\n",
    "mlp_l1.fit(X_train,y_train)\n",
    "y_predicted_l1 = mlp_l1.predict(X_test)\n",
    "print(\"Modelo com learning rate=0.001: {0:.3f}\".format(accuracy_score(y_test, y_predicted_l1)))\n",
    "\n",
    "mlp_l2 = MLPClassifier(learning_rate_init=0.002,hidden_layer_sizes=tamanho_rede,solver=solver,max_iter=iteracoes,activation=ativacao)\n",
    "mlp_l2.fit(X_train,y_train)\n",
    "y_predicted_l2 = mlp_l2.predict(X_test)\n",
    "print(\"Modelo com learning rate=0.002: {0:.3f}\".format(accuracy_score(y_test, y_predicted_l2)))\n",
    "\n",
    "mlp_l3 = MLPClassifier(learning_rate_init=0.005,hidden_layer_sizes=tamanho_rede,solver=solver,max_iter=iteracoes,activation=ativacao)\n",
    "mlp_l3.fit(X_train,y_train)\n",
    "y_predicted_l3 = mlp_l3.predict(X_test)\n",
    "print(\"Modelo com learning rate=0.005: {0:.3f}\".format(accuracy_score(y_test, y_predicted_l3)))\n",
    "\n",
    "\n",
    "plt.figure(figsize=(14,8))\n",
    "plt.title(\"Curva de perda - learning rate de 0.001 a 0.005\")\n",
    "plt.grid()\n",
    "plt.plot(range(0,len(mlp_l1.loss_curve_)),mlp_l1.loss_curve_,'r', label=\"learning rate=0.001\")\n",
    "plt.plot(range(0,len(mlp_l2.loss_curve_)),mlp_l2.loss_curve_,'g', label=\"learning rate=0.002\")\n",
    "plt.plot(range(0,len(mlp_l3.loss_curve_)),mlp_l3.loss_curve_,'b', label=\"learning rate=0.005\")\n",
    "\n",
    "plt.legend()"
   ]
  }
 ],
 "metadata": {
  "celltoolbar": "Raw Cell Format",
  "kernelspec": {
   "display_name": "Python 3",
   "language": "python",
   "name": "python3"
  },
  "language_info": {
   "codemirror_mode": {
    "name": "ipython",
    "version": 3
   },
   "file_extension": ".py",
   "mimetype": "text/x-python",
   "name": "python",
   "nbconvert_exporter": "python",
   "pygments_lexer": "ipython3",
   "version": "3.8.5"
  }
 },
 "nbformat": 4,
 "nbformat_minor": 4
}